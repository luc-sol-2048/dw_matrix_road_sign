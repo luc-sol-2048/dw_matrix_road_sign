{
  "nbformat": 4,
  "nbformat_minor": 0,
  "metadata": {
    "colab": {
      "name": "day_5_m3.ipynb",
      "provenance": [],
      "mount_file_id": "19VTmLH1No_qz98mgD82BnpcVKYDKDLAE",
      "authorship_tag": "ABX9TyNiZMcSZgwzsCcGBAGLB/NC",
      "include_colab_link": true
    },
    "kernelspec": {
      "name": "python3",
      "display_name": "Python 3"
    },
    "accelerator": "GPU"
  },
  "cells": [
    {
      "cell_type": "markdown",
      "metadata": {
        "id": "view-in-github",
        "colab_type": "text"
      },
      "source": [
        "<a href=\"https://colab.research.google.com/github/luc-sol-2048/dw_matrix_road_sign/blob/master/day_5_m3.ipynb\" target=\"_parent\"><img src=\"https://colab.research.google.com/assets/colab-badge.svg\" alt=\"Open In Colab\"/></a>"
      ]
    },
    {
      "cell_type": "code",
      "metadata": {
        "id": "ZdsCTdgZDWKa",
        "colab_type": "code",
        "colab": {
          "base_uri": "https://localhost:8080/",
          "height": 36
        },
        "outputId": "45333b59-693b-4afb-a0a9-e4860b298053"
      },
      "source": [
        "#!pip install hyperopt"
      ],
      "execution_count": 3,
      "outputs": [
        {
          "output_type": "stream",
          "text": [
            "ERROR! Session/line number was not unique in database. History logging moved to new session 59\n"
          ],
          "name": "stdout"
        }
      ]
    },
    {
      "cell_type": "code",
      "metadata": {
        "id": "1YfejZ3kEh6n",
        "colab_type": "code",
        "colab": {
          "base_uri": "https://localhost:8080/",
          "height": 54
        },
        "outputId": "a5a584b8-b851-4984-f05d-6d677981109d"
      },
      "source": [
        "import pandas as pd\n",
        "import numpy as np\n",
        "import tensorflow as tf\n",
        "import os\n",
        "import datetime\n",
        "import matplotlib.pyplot as plt\n",
        "\n",
        "\n",
        "from tensorflow.keras.models import Sequential\n",
        "from tensorflow.keras.layers import Conv2D,MaxPool2D,Dense,Flatten,Dropout\n",
        "from tensorflow.keras.utils import to_categorical\n",
        "from skimage import color,exposure\n",
        "from sklearn.metrics import accuracy_score\n",
        "from hyperopt import hp, STATUS_OK, tpe, Trials, fmin\n",
        "%load_ext tensorboard"
      ],
      "execution_count": 34,
      "outputs": [
        {
          "output_type": "stream",
          "text": [
            "The tensorboard extension is already loaded. To reload it, use:\n",
            "  %reload_ext tensorboard\n"
          ],
          "name": "stdout"
        }
      ]
    },
    {
      "cell_type": "code",
      "metadata": {
        "id": "X7CdfnMsuj99",
        "colab_type": "code",
        "outputId": "ff155e81-5201-4fd2-c385-78cc0e978d1a",
        "colab": {
          "base_uri": "https://localhost:8080/",
          "height": 36
        }
      },
      "source": [
        "cd '/content/drive/My Drive/Colab Notebooks/dw_matrix/matrix_three/dw_matrix_road_sign/'"
      ],
      "execution_count": 35,
      "outputs": [
        {
          "output_type": "stream",
          "text": [
            "/content/drive/My Drive/Colab Notebooks/dw_matrix/matrix_three/dw_matrix_road_sign\n"
          ],
          "name": "stdout"
        }
      ]
    },
    {
      "cell_type": "code",
      "metadata": {
        "id": "7m5rV8scu9-h",
        "colab_type": "code",
        "colab": {}
      },
      "source": [
        "train = pd.read_pickle('./data/train.p')\n",
        "X_train, y_train = train['features'], train['labels']\n",
        "\n",
        "test = pd.read_pickle('./data/test.p')\n",
        "X_test, y_test = test['features'], test['labels']\n",
        "\n",
        "df = pd.read_csv('./data/signnames.csv')\n",
        "sign_labels = df.to_dict()['b']\n"
      ],
      "execution_count": 0,
      "outputs": []
    },
    {
      "cell_type": "code",
      "metadata": {
        "id": "XcDha054u7_3",
        "colab_type": "code",
        "colab": {}
      },
      "source": [
        "if y_train.ndim ==1 : y_train = to_categorical(y_train)\n",
        "if y_test.ndim ==1 : y_test = to_categorical(y_test)\n",
        "\n",
        "input_shape = X_train.shape[1:]\n",
        "num_classes = y_train.shape[1]"
      ],
      "execution_count": 0,
      "outputs": []
    },
    {
      "cell_type": "code",
      "metadata": {
        "id": "L1ODi1yQvczz",
        "colab_type": "code",
        "colab": {}
      },
      "source": [
        "def train_model(model, X_train, y_train, params_fit={}):\n",
        "  model.compile(loss='categorical_crossentropy', optimizer='Adam', metrics = ['accuracy'])\n",
        "  \n",
        "  \n",
        "  model.fit(\n",
        "      X_train,\n",
        "      y_train,\n",
        "      batch = params_fit.get('batch_size',128),\n",
        "      epochs = params_fit.get('epochs',5),\n",
        "\n",
        "\n",
        "      \n",
        "  )\n",
        "  \n",
        "  return model"
      ],
      "execution_count": 0,
      "outputs": []
    },
    {
      "cell_type": "code",
      "metadata": {
        "id": "JUV2gtTsFrDi",
        "colab_type": "code",
        "colab": {}
      },
      "source": [
        "def predict_model(model_trained, X_test,y_test,scoring=accuracy_score):\n",
        "  y_test_norm = np.argmax(y_test, axis=1)\n",
        "\n",
        "  y_pred_prob = model_trained.predict(X_test)\n",
        "  y_pred = np.argmax(y_pred_prob, axis=1)\n",
        "\n",
        "  return scoring(y_test_norm,y_pred)"
      ],
      "execution_count": 0,
      "outputs": []
    },
    {
      "cell_type": "code",
      "metadata": {
        "id": "1GvP5F9nFwW8",
        "colab_type": "code",
        "colab": {}
      },
      "source": [
        "def get_cnn_v5(input_shape, num_classes):\n",
        "  return Sequential([\n",
        "      Conv2D(filters=32,kernel_size=(3,3),activation='relu',input_shape = input_shape),\n",
        "      Conv2D(filters=32,kernel_size=(3,3),activation='relu',padding='same'),\n",
        "      MaxPool2D(),\n",
        "      Dropout(0.3),\n",
        "      \n",
        "      Conv2D(filters=64,kernel_size=(3,3),activation='relu',padding='same'),\n",
        "      Conv2D(filters=64,kernel_size=(3,3),activation='relu'),\n",
        "      MaxPool2D(),\n",
        "      Dropout(0.3),\n",
        "      \n",
        "      Conv2D(filters=64,kernel_size=(3,3),activation='relu',padding='same'),\n",
        "      Conv2D(filters=64,kernel_size=(3,3),activation='relu'),\n",
        "      MaxPool2D(),\n",
        "      Dropout(0.3),\n",
        "            \n",
        "      Flatten(),\n",
        "\n",
        "      Dense(1024,activation='relu'),\n",
        "      Dropout(0.3),\n",
        "\n",
        "      Dense(1024,activation='relu'),\n",
        "      Dropout(0.3),\n",
        "\n",
        "      Dense(num_classes, activation='softmax'),\n",
        "  ]\n",
        "  )"
      ],
      "execution_count": 0,
      "outputs": []
    },
    {
      "cell_type": "code",
      "metadata": {
        "id": "OjEtTyVxF9hm",
        "colab_type": "code",
        "colab": {
          "base_uri": "https://localhost:8080/",
          "height": 222
        },
        "outputId": "6663edfc-b90c-4541-e65b-a945a0a1b8ed"
      },
      "source": [
        "model = get_cnn_v5(input_shape,num_classes)\n",
        "model_trained = train_model(model,X_train,y_train)\n",
        "\n",
        "predict_model(model_trained, X_test, y_test)"
      ],
      "execution_count": 45,
      "outputs": [
        {
          "output_type": "stream",
          "text": [
            "Epoch 1/5\n",
            "1088/1088 [==============================] - 5s 5ms/step - loss: 1.7900 - accuracy: 0.4709\n",
            "Epoch 2/5\n",
            "1088/1088 [==============================] - 5s 5ms/step - loss: 0.5469 - accuracy: 0.8300\n",
            "Epoch 3/5\n",
            "1088/1088 [==============================] - 5s 5ms/step - loss: 0.3720 - accuracy: 0.8910\n",
            "Epoch 4/5\n",
            "1088/1088 [==============================] - 5s 5ms/step - loss: 0.3198 - accuracy: 0.9111\n",
            "Epoch 5/5\n",
            "1088/1088 [==============================] - 5s 5ms/step - loss: 0.2897 - accuracy: 0.9215\n"
          ],
          "name": "stdout"
        },
        {
          "output_type": "execute_result",
          "data": {
            "text/plain": [
              "0.963265306122449"
            ]
          },
          "metadata": {
            "tags": []
          },
          "execution_count": 45
        }
      ]
    },
    {
      "cell_type": "code",
      "metadata": {
        "id": "0o4MyqxFKf5V",
        "colab_type": "code",
        "colab": {}
      },
      "source": [
        "def get_cnn_v5(params):\n",
        "  return Sequential([\n",
        "      Conv2D(filters=32,kernel_size=(3,3),activation='relu',input_shape = input_shape),\n",
        "      Conv2D(filters=32,kernel_size=(3,3),activation='relu',padding='same'),\n",
        "      MaxPool2D(),\n",
        "      Dropout(params['dropout_cnn_block_one']),\n",
        "      \n",
        "      Conv2D(filters=64,kernel_size=(3,3),activation='relu',padding='same'),\n",
        "      Conv2D(filters=64,kernel_size=(3,3),activation='relu'),\n",
        "      MaxPool2D(),\n",
        "      Dropout(params['dropout_cnn_block_two']),\n",
        "      \n",
        "      Conv2D(filters=128,kernel_size=(3,3),activation='relu',padding='same'),\n",
        "      Conv2D(filters=128,kernel_size=(3,3),activation='relu'),\n",
        "      MaxPool2D(),\n",
        "      Dropout(params['dropout_cnn_block_three']),\n",
        "            \n",
        "      Flatten(),\n",
        "\n",
        "      Dense(1024,activation='relu'),\n",
        "      Dropout(params['dropout_dense_block_one']),\n",
        "\n",
        "      Dense(1024,activation='relu'),\n",
        "      Dropout(params['dropout_dense_block_two']),\n",
        "\n",
        "      Dense(num_classes, activation='softmax'),\n",
        "  ]\n",
        "  )"
      ],
      "execution_count": 0,
      "outputs": []
    },
    {
      "cell_type": "code",
      "metadata": {
        "id": "2NB6YiflGcKY",
        "colab_type": "code",
        "colab": {}
      },
      "source": [
        "def func_obj(params):\n",
        "  model = get_cnn_v5(params)\n",
        "  model.compile(loss='categorical_crossentropy', optimizer='Adam', metrics = ['accuracy'])\n",
        "  \n",
        "  model.fit(\n",
        "      X_train,\n",
        "      y_train,\n",
        "      batch_size = int(params.get('batch_size',128)),\n",
        "      epochs = 5,\n",
        "      verbose = 0\n",
        "      )\n",
        "  \n",
        "  score = model.evaluate(X_test, y_test,verbose=0)\n",
        "  accuracy = score[1]\n",
        "\n",
        "  print(params, 'accuracy={}'.format(accuracy))\n",
        "\n",
        "  return {'loss': -accuracy, 'status': STATUS_OK, 'model':model}"
      ],
      "execution_count": 0,
      "outputs": []
    },
    {
      "cell_type": "code",
      "metadata": {
        "id": "1ZaIbECvIcEh",
        "colab_type": "code",
        "colab": {
          "base_uri": "https://localhost:8080/",
          "height": 1000
        },
        "outputId": "ac6a6c76-543a-472d-c75f-e6c4d075e0d9"
      },
      "source": [
        "space = {\n",
        "    'batch_size': hp.quniform('batch_size',100,200,10),\n",
        "    'dropout_cnn_block_one': hp.uniform('dropout_cnn_block_one', 0.3, 0.5),\n",
        "    'dropout_cnn_block_two': hp.uniform('dropout_cnn_block_two', 0.3, 0.5),\n",
        "    'dropout_cnn_block_three': hp.uniform('dropout_cnn_block_three', 0.3, 0.5,),\n",
        "\n",
        "    'dropout_dense_block_one': hp.uniform('dropout_dense_block_one', 0.3, 0.7),\n",
        "    'dropout_dense_block_two': hp.uniform('dropout_dense_block_two', 0.3, 0.7)\n",
        "}\n",
        "\n",
        "best = fmin(\n",
        "    func_obj,\n",
        "    space,\n",
        "    tpe.suggest,\n",
        "    30,\n",
        "    Trials()\n",
        ")"
      ],
      "execution_count": 49,
      "outputs": [
        {
          "output_type": "stream",
          "text": [
            "{'batch_size': 200.0, 'dropout_cnn_block_one': 0.3086331853769426, 'dropout_cnn_block_three': 0.4027133005041521, 'dropout_cnn_block_two': 0.4494376505867658, 'dropout_dense_block_one': 0.5282753931380186, 'dropout_dense_block_two': 0.3261657425590439}\n",
            "accuracy=0.9131519198417664\n",
            "{'batch_size': 170.0, 'dropout_cnn_block_one': 0.4970499404284838, 'dropout_cnn_block_three': 0.3952469147534923, 'dropout_cnn_block_two': 0.3080562157553827, 'dropout_dense_block_one': 0.6110673482437669, 'dropout_dense_block_two': 0.4028813988740473}\n",
            "accuracy=0.7891156673431396\n",
            "{'batch_size': 120.0, 'dropout_cnn_block_one': 0.37639255200124533, 'dropout_cnn_block_three': 0.3312712431292111, 'dropout_cnn_block_two': 0.33883210581440665, 'dropout_dense_block_one': 0.45595938244184925, 'dropout_dense_block_two': 0.47450997697005454}\n",
            "accuracy=0.9358276724815369\n",
            "{'batch_size': 190.0, 'dropout_cnn_block_one': 0.3968565629342464, 'dropout_cnn_block_three': 0.4943212646191046, 'dropout_cnn_block_two': 0.4904319216085111, 'dropout_dense_block_one': 0.3553965291250801, 'dropout_dense_block_two': 0.5932035568606335}\n",
            "accuracy=0.7625850439071655\n",
            "{'batch_size': 170.0, 'dropout_cnn_block_one': 0.4103183261565191, 'dropout_cnn_block_three': 0.42102092028601523, 'dropout_cnn_block_two': 0.30327488590877777, 'dropout_dense_block_one': 0.5894630848871635, 'dropout_dense_block_two': 0.38010620342685764}\n",
            "accuracy=0.9578231573104858\n",
            "{'batch_size': 200.0, 'dropout_cnn_block_one': 0.35460090452696624, 'dropout_cnn_block_three': 0.4327077672406837, 'dropout_cnn_block_two': 0.3083144487947311, 'dropout_dense_block_one': 0.3644089437955322, 'dropout_dense_block_two': 0.644309105064922}\n",
            "accuracy=0.9213151931762695\n",
            "{'batch_size': 190.0, 'dropout_cnn_block_one': 0.32285212688957565, 'dropout_cnn_block_three': 0.41783598186590487, 'dropout_cnn_block_two': 0.311990039960436, 'dropout_dense_block_one': 0.3221298570056253, 'dropout_dense_block_two': 0.5400714269658063}\n",
            "accuracy=0.9580498933792114\n",
            "{'batch_size': 170.0, 'dropout_cnn_block_one': 0.3566310130511216, 'dropout_cnn_block_three': 0.44259924569578146, 'dropout_cnn_block_two': 0.4704109500920915, 'dropout_dense_block_one': 0.4674465962129284, 'dropout_dense_block_two': 0.6574680119500506}\n",
            "accuracy=0.460544228553772\n",
            "{'batch_size': 130.0, 'dropout_cnn_block_one': 0.4655013174065453, 'dropout_cnn_block_three': 0.3643970113370777, 'dropout_cnn_block_two': 0.4248508263151334, 'dropout_dense_block_one': 0.4194198103519445, 'dropout_dense_block_two': 0.5063455223952597}\n",
            "accuracy=0.9598639607429504\n",
            "{'batch_size': 190.0, 'dropout_cnn_block_one': 0.4147358530718065, 'dropout_cnn_block_three': 0.40832728190636564, 'dropout_cnn_block_two': 0.3850172620365883, 'dropout_dense_block_one': 0.46336474123489835, 'dropout_dense_block_two': 0.3120877558083344}\n",
            "accuracy=0.9394558072090149\n",
            "{'batch_size': 160.0, 'dropout_cnn_block_one': 0.35180623463594657, 'dropout_cnn_block_three': 0.3131797731423489, 'dropout_cnn_block_two': 0.4885013371855368, 'dropout_dense_block_one': 0.40808624740921057, 'dropout_dense_block_two': 0.36090330434155476}\n",
            "accuracy=0.94399094581604\n",
            "{'batch_size': 170.0, 'dropout_cnn_block_one': 0.31322268057885627, 'dropout_cnn_block_three': 0.4093641103904891, 'dropout_cnn_block_two': 0.31862785926764137, 'dropout_dense_block_one': 0.36011841045787346, 'dropout_dense_block_two': 0.5662416772092198}\n",
            "accuracy=0.9680272340774536\n",
            "{'batch_size': 180.0, 'dropout_cnn_block_one': 0.32112609842193135, 'dropout_cnn_block_three': 0.33842895713848065, 'dropout_cnn_block_two': 0.48617261383549537, 'dropout_dense_block_one': 0.35703439942018655, 'dropout_dense_block_two': 0.4367211137568176}\n",
            "accuracy=0.9387755393981934\n",
            "{'batch_size': 140.0, 'dropout_cnn_block_one': 0.4469655992821257, 'dropout_cnn_block_three': 0.3907916126280414, 'dropout_cnn_block_two': 0.40079219742528416, 'dropout_dense_block_one': 0.4628422545488843, 'dropout_dense_block_two': 0.4409430716552509}\n",
            "accuracy=0.9478458166122437\n",
            "{'batch_size': 190.0, 'dropout_cnn_block_one': 0.37568128191136196, 'dropout_cnn_block_three': 0.417492514096822, 'dropout_cnn_block_two': 0.46464569791392296, 'dropout_dense_block_one': 0.6757784681614744, 'dropout_dense_block_two': 0.5731123304672449}\n",
            "accuracy=0.8605442047119141\n",
            "{'batch_size': 160.0, 'dropout_cnn_block_one': 0.33830254441700747, 'dropout_cnn_block_three': 0.3809104053422547, 'dropout_cnn_block_two': 0.34789021953620963, 'dropout_dense_block_one': 0.5357026532560841, 'dropout_dense_block_two': 0.6025186342303734}\n",
            "accuracy=0.9387755393981934\n",
            "{'batch_size': 130.0, 'dropout_cnn_block_one': 0.4485791012640231, 'dropout_cnn_block_three': 0.4180753066854993, 'dropout_cnn_block_two': 0.30489881238962036, 'dropout_dense_block_one': 0.48315156438711204, 'dropout_dense_block_two': 0.5302485369351987}\n",
            "accuracy=0.9818593859672546\n",
            "{'batch_size': 190.0, 'dropout_cnn_block_one': 0.33110755947331183, 'dropout_cnn_block_three': 0.30215483021941403, 'dropout_cnn_block_two': 0.46994669320143945, 'dropout_dense_block_one': 0.3314616866935447, 'dropout_dense_block_two': 0.4182603631491868}\n",
            "accuracy=0.9478458166122437\n",
            "{'batch_size': 200.0, 'dropout_cnn_block_one': 0.4013209067343212, 'dropout_cnn_block_three': 0.32097348297702916, 'dropout_cnn_block_two': 0.46304570566852565, 'dropout_dense_block_one': 0.4043013514149725, 'dropout_dense_block_two': 0.427555496206438}\n",
            "accuracy=0.9528344869613647\n",
            "{'batch_size': 180.0, 'dropout_cnn_block_one': 0.32810967050018974, 'dropout_cnn_block_three': 0.4303231010988656, 'dropout_cnn_block_two': 0.3498263497743416, 'dropout_dense_block_one': 0.4453110889921214, 'dropout_dense_block_two': 0.4981376725243809}\n",
            "accuracy=0.9303854703903198\n",
            "{'batch_size': 100.0, 'dropout_cnn_block_one': 0.44563307623626514, 'dropout_cnn_block_three': 0.46914815413889294, 'dropout_cnn_block_two': 0.3312017900345295, 'dropout_dense_block_one': 0.5114253670052115, 'dropout_dense_block_two': 0.5498006507964147}\n",
            "accuracy=0.9503401517868042\n",
            "{'batch_size': 120.0, 'dropout_cnn_block_one': 0.485325171401894, 'dropout_cnn_block_three': 0.45521749714883586, 'dropout_cnn_block_two': 0.3728605115564571, 'dropout_dense_block_one': 0.5754301209882626, 'dropout_dense_block_two': 0.6257434357308697}\n",
            "accuracy=0.8621315360069275\n",
            "{'batch_size': 140.0, 'dropout_cnn_block_one': 0.43495343462150227, 'dropout_cnn_block_three': 0.35665900087612246, 'dropout_cnn_block_two': 0.3290227139260515, 'dropout_dense_block_one': 0.6956404077564062, 'dropout_dense_block_two': 0.5305727568550156}\n",
            "accuracy=0.9145124554634094\n",
            "{'batch_size': 150.0, 'dropout_cnn_block_one': 0.4702008490214875, 'dropout_cnn_block_three': 0.4775118153550878, 'dropout_cnn_block_two': 0.36481032203733776, 'dropout_dense_block_one': 0.6268254573348411, 'dropout_dense_block_two': 0.6977125293949833}\n",
            "accuracy=0.7358276844024658\n",
            "{'batch_size': 100.0, 'dropout_cnn_block_one': 0.4379475041055484, 'dropout_cnn_block_three': 0.3720447634592695, 'dropout_cnn_block_two': 0.3190455264855934, 'dropout_dense_block_one': 0.3007616123242074, 'dropout_dense_block_two': 0.6917406792197205}\n",
            "accuracy=0.9276643991470337\n",
            "{'batch_size': 110.0, 'dropout_cnn_block_one': 0.3036075070918392, 'dropout_cnn_block_three': 0.44934907320400125, 'dropout_cnn_block_two': 0.4112020935810064, 'dropout_dense_block_one': 0.5544837481010748, 'dropout_dense_block_two': 0.4640931334978166}\n",
            "accuracy=0.8260771036148071\n",
            "{'batch_size': 140.0, 'dropout_cnn_block_one': 0.42292715044181645, 'dropout_cnn_block_three': 0.47620071174372935, 'dropout_cnn_block_two': 0.36252923673717813, 'dropout_dense_block_one': 0.4979676384559071, 'dropout_dense_block_two': 0.5073736595374377}\n",
            "accuracy=0.8734694123268127\n",
            "{'batch_size': 150.0, 'dropout_cnn_block_one': 0.464327837172422, 'dropout_cnn_block_three': 0.35232553944161094, 'dropout_cnn_block_two': 0.4312600958634965, 'dropout_dense_block_one': 0.37503082780498576, 'dropout_dense_block_two': 0.56986040175942}\n",
            "accuracy=0.8782312870025635\n",
            "{'batch_size': 130.0, 'dropout_cnn_block_one': 0.3899874408463962, 'dropout_cnn_block_three': 0.3999327443094027, 'dropout_cnn_block_two': 0.38508741319532613, 'dropout_dense_block_one': 0.49658513673101706, 'dropout_dense_block_two': 0.6123940698297285}\n",
            "accuracy=0.9471655488014221\n",
            "{'batch_size': 160.0, 'dropout_cnn_block_one': 0.48700331026155064, 'dropout_cnn_block_three': 0.3871496779722337, 'dropout_cnn_block_two': 0.32468102359963896, 'dropout_dense_block_one': 0.3881812538779176, 'dropout_dense_block_two': 0.6698248109363268}\n",
            "accuracy=0.9213151931762695\n",
            "100%|██████████| 30/30 [05:19<00:00, 10.65s/it, best loss: -0.9818593859672546]\n"
          ],
          "name": "stdout"
        }
      ]
    },
    {
      "cell_type": "code",
      "metadata": {
        "id": "TypXbEqeJP12",
        "colab_type": "code",
        "colab": {}
      },
      "source": [
        ""
      ],
      "execution_count": 0,
      "outputs": []
    }
  ]
}