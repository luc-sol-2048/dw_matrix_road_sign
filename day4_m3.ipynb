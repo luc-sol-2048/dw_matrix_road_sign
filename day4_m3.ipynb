{
  "nbformat": 4,
  "nbformat_minor": 0,
  "metadata": {
    "colab": {
      "name": "day4_m3.ipynb",
      "provenance": [],
      "mount_file_id": "1XTUKNGkJv92NH-63WQatvp6v17DV4h3Z",
      "authorship_tag": "ABX9TyPB5F6tMTWEH96fLzOAMnlk",
      "include_colab_link": true
    },
    "kernelspec": {
      "name": "python3",
      "display_name": "Python 3"
    },
    "accelerator": "GPU"
  },
  "cells": [
    {
      "cell_type": "markdown",
      "metadata": {
        "id": "view-in-github",
        "colab_type": "text"
      },
      "source": [
        "<a href=\"https://colab.research.google.com/github/luc-sol-2048/dw_matrix_road_sign/blob/master/day4_m3.ipynb\" target=\"_parent\"><img src=\"https://colab.research.google.com/assets/colab-badge.svg\" alt=\"Open In Colab\"/></a>"
      ]
    },
    {
      "cell_type": "code",
      "metadata": {
        "id": "vNciXuaNtnpE",
        "colab_type": "code",
        "outputId": "6b7ee7da-da8b-4b66-c3a3-21684e494ed9",
        "colab": {
          "base_uri": "https://localhost:8080/",
          "height": 54
        }
      },
      "source": [
        "import pandas as pd\n",
        "import numpy as np\n",
        "import tensorflow as tf\n",
        "import os\n",
        "import datetime\n",
        "import matplotlib.pyplot as plt\n",
        "\n",
        "\n",
        "from tensorflow.keras.models import Sequential\n",
        "from tensorflow.keras.layers import Conv2D,MaxPool2D,Dense,Flatten,Dropout\n",
        "from tensorflow.keras.utils import to_categorical\n",
        "from skimage import color,exposure\n",
        "from sklearn.metrics import accuracy_score\n",
        "\n",
        "%load_ext tensorboard"
      ],
      "execution_count": 33,
      "outputs": [
        {
          "output_type": "stream",
          "text": [
            "The tensorboard extension is already loaded. To reload it, use:\n",
            "  %reload_ext tensorboard\n"
          ],
          "name": "stdout"
        }
      ]
    },
    {
      "cell_type": "code",
      "metadata": {
        "id": "X7CdfnMsuj99",
        "colab_type": "code",
        "outputId": "e07fe9d5-04da-43f3-d588-5f9a091bdadf",
        "colab": {
          "base_uri": "https://localhost:8080/",
          "height": 36
        }
      },
      "source": [
        "cd '/content/drive/My Drive/Colab Notebooks/dw_matrix/matrix_three/dw_matrix_road_sign/'"
      ],
      "execution_count": 34,
      "outputs": [
        {
          "output_type": "stream",
          "text": [
            "/content/drive/My Drive/Colab Notebooks/dw_matrix/matrix_three/dw_matrix_road_sign\n"
          ],
          "name": "stdout"
        }
      ]
    },
    {
      "cell_type": "code",
      "metadata": {
        "id": "7m5rV8scu9-h",
        "colab_type": "code",
        "colab": {}
      },
      "source": [
        "train = pd.read_pickle('./data/train.p')\n",
        "X_train, y_train = train['features'], train['labels']"
      ],
      "execution_count": 0,
      "outputs": []
    },
    {
      "cell_type": "code",
      "metadata": {
        "id": "XcDha054u7_3",
        "colab_type": "code",
        "colab": {}
      },
      "source": [
        "test = pd.read_pickle('./data/test.p')\n",
        "X_test, y_test = test['features'], test['labels']"
      ],
      "execution_count": 0,
      "outputs": []
    },
    {
      "cell_type": "code",
      "metadata": {
        "id": "L1ODi1yQvczz",
        "colab_type": "code",
        "colab": {}
      },
      "source": [
        "if y_train.ndim ==1 : y_train = to_categorical(y_train)"
      ],
      "execution_count": 0,
      "outputs": []
    },
    {
      "cell_type": "code",
      "metadata": {
        "id": "yHhZEY8wwZFr",
        "colab_type": "code",
        "outputId": "1de87c8d-1175-4f1e-d061-ffc64bc7eab3",
        "colab": {
          "base_uri": "https://localhost:8080/",
          "height": 36
        }
      },
      "source": [
        "y_train.shape"
      ],
      "execution_count": 38,
      "outputs": [
        {
          "output_type": "execute_result",
          "data": {
            "text/plain": [
              "(34799, 43)"
            ]
          },
          "metadata": {
            "tags": []
          },
          "execution_count": 38
        }
      ]
    },
    {
      "cell_type": "code",
      "metadata": {
        "id": "LJjAsCw2wnDs",
        "colab_type": "code",
        "colab": {}
      },
      "source": [
        "if y_test.ndim ==1 : y_test = to_categorical(y_test)"
      ],
      "execution_count": 0,
      "outputs": []
    },
    {
      "cell_type": "code",
      "metadata": {
        "id": "_8z8mGe_wx2_",
        "colab_type": "code",
        "outputId": "defd6986-7315-4674-93a8-1835f3c52e3e",
        "colab": {
          "base_uri": "https://localhost:8080/",
          "height": 36
        }
      },
      "source": [
        "y_test.shape"
      ],
      "execution_count": 40,
      "outputs": [
        {
          "output_type": "execute_result",
          "data": {
            "text/plain": [
              "(4410, 43)"
            ]
          },
          "metadata": {
            "tags": []
          },
          "execution_count": 40
        }
      ]
    },
    {
      "cell_type": "code",
      "metadata": {
        "id": "tN4TjehHxbjG",
        "colab_type": "code",
        "colab": {}
      },
      "source": [
        "input_shape = X_train.shape[1:]\n",
        "num_classes = y_train.shape[1]"
      ],
      "execution_count": 0,
      "outputs": []
    },
    {
      "cell_type": "code",
      "metadata": {
        "id": "eDEdRzHzw0Bb",
        "colab_type": "code",
        "outputId": "e4e998fb-69bb-4637-866f-e8a805be851a",
        "colab": {
          "base_uri": "https://localhost:8080/",
          "height": 54
        }
      },
      "source": [
        "model = Sequential([\n",
        "    Conv2D(filters=64,kernel_size=(3,3),activation='relu',input_shape = input_shape),\n",
        "    Flatten(),\n",
        "    Dense(num_classes, activation='softmax'),\n",
        "]\n",
        ")\n",
        "\n",
        "model.compile(loss='categorical_crossentropy', optimizer='Adam', metrics = ['accuracy'])\n",
        "model.fit(X_train,y_train)\n",
        "\n"
      ],
      "execution_count": 42,
      "outputs": [
        {
          "output_type": "stream",
          "text": [
            "1088/1088 [==============================] - 3s 3ms/step - loss: 15.2515 - accuracy: 0.7567\n"
          ],
          "name": "stdout"
        },
        {
          "output_type": "execute_result",
          "data": {
            "text/plain": [
              "<tensorflow.python.keras.callbacks.History at 0x7fc8cff611d0>"
            ]
          },
          "metadata": {
            "tags": []
          },
          "execution_count": 42
        }
      ]
    },
    {
      "cell_type": "code",
      "metadata": {
        "id": "hPqzsgb7yZBP",
        "colab_type": "code",
        "colab": {}
      },
      "source": [
        "def get_cnn_v1(input_shape, num_classes):\n",
        "  return Sequential([\n",
        "      Conv2D(filters=64,kernel_size=(3,3),activation='relu',input_shape = input_shape),\n",
        "      Flatten(),\n",
        "      Dense(num_classes, activation='softmax'),\n",
        "  ]\n",
        "  )\n",
        "\n",
        "def train_model(model, X_train, y_train, params_fit={}):\n",
        "  model.compile(loss='categorical_crossentropy', optimizer='Adam', metrics = ['accuracy'])\n",
        "  \n",
        "  logdir = os.path.join('logs',datetime.datetime.now().strftime('%Y%m%f-%H%M%S'))\n",
        "  tensorboard_callback = tf.keras.callbacks.TensorBoard(logdir,histogram_freq=1)\n",
        "  \n",
        "  model.fit(\n",
        "      X_train,\n",
        "      y_train,\n",
        "      batch = params_fit.get('batch_size',128),\n",
        "      epochs = params_fit.get('epochs',5),\n",
        "      verbpse = params_fit.get('verbose',1),\n",
        "      validation_data = params_fit.get('validation_data',(X_train, y_train)),\n",
        "      callbacks = [tensorboard_callback]\n",
        "      \n",
        "  )\n",
        "  \n",
        "  return model\n"
      ],
      "execution_count": 0,
      "outputs": []
    },
    {
      "cell_type": "code",
      "metadata": {
        "id": "zwh1vbll0Rhc",
        "colab_type": "code",
        "outputId": "b6aab8db-0746-45e1-cb92-4ad8a5508be0",
        "colab": {
          "base_uri": "https://localhost:8080/",
          "height": 203
        }
      },
      "source": [
        "model = get_cnn_v1(input_shape,num_classes)\n",
        "model_trained = train_model(model,X_train,y_train)"
      ],
      "execution_count": 44,
      "outputs": [
        {
          "output_type": "stream",
          "text": [
            "Epoch 1/5\n",
            "1088/1088 [==============================] - 7s 6ms/step - loss: 11.9774 - accuracy: 0.7806 - val_loss: 0.3326 - val_accuracy: 0.9247\n",
            "Epoch 2/5\n",
            "1088/1088 [==============================] - 7s 6ms/step - loss: 0.3366 - accuracy: 0.9252 - val_loss: 0.2412 - val_accuracy: 0.9488\n",
            "Epoch 3/5\n",
            "1088/1088 [==============================] - 7s 6ms/step - loss: 0.2491 - accuracy: 0.9473 - val_loss: 0.1788 - val_accuracy: 0.9550\n",
            "Epoch 4/5\n",
            "1088/1088 [==============================] - 7s 6ms/step - loss: 0.2527 - accuracy: 0.9468 - val_loss: 0.1258 - val_accuracy: 0.9714\n",
            "Epoch 5/5\n",
            "1088/1088 [==============================] - 7s 6ms/step - loss: 0.1971 - accuracy: 0.9591 - val_loss: 0.1454 - val_accuracy: 0.9661\n"
          ],
          "name": "stdout"
        }
      ]
    },
    {
      "cell_type": "code",
      "metadata": {
        "id": "h-Pkd876CcWQ",
        "colab_type": "code",
        "colab": {}
      },
      "source": [
        "df = pd.read_csv('./data/signnames.csv')\n",
        "sign_labels = df.to_dict()['b']\n"
      ],
      "execution_count": 0,
      "outputs": []
    },
    {
      "cell_type": "code",
      "metadata": {
        "id": "kvNLewSWmRYV",
        "colab_type": "code",
        "colab": {}
      },
      "source": [
        "def train_and_predict(model):\n",
        "  model_trained = train_model(model,X_train,y_train)\n",
        "  return predict_model(model_trained,X_test,y_test)\n"
      ],
      "execution_count": 0,
      "outputs": []
    },
    {
      "cell_type": "code",
      "metadata": {
        "id": "vU1TBzOeamMg",
        "colab_type": "code",
        "colab": {}
      },
      "source": [
        "def predict_model(model_trained, X_test,y_test,scoring=accuracy_score):\n",
        "  y_test_norm = np.argmax(y_test, axis=1)\n",
        "\n",
        "  y_pred_prob = model_trained.predict(X_test)\n",
        "  y_pred = np.argmax(y_pred_prob, axis=1)\n",
        "\n",
        "  return scoring(y_test_norm,y_pred)"
      ],
      "execution_count": 0,
      "outputs": []
    },
    {
      "cell_type": "code",
      "metadata": {
        "id": "bZborIO6jWsQ",
        "colab_type": "code",
        "colab": {
          "base_uri": "https://localhost:8080/",
          "height": 222
        },
        "outputId": "b13c6798-1b47-4994-e0a0-42388d9bebd3"
      },
      "source": [
        "def get_cnn_v2(input_shape, num_classes):\n",
        "  return Sequential([\n",
        "      Conv2D(filters=32,kernel_size=(3,3),activation='relu',input_shape = input_shape),\n",
        "      MaxPool2D(),\n",
        "      Dropout(0.3),\n",
        "      \n",
        "      Conv2D(filters=64,kernel_size=(3,3),activation='relu'),\n",
        "      MaxPool2D(),\n",
        "      Dropout(0.3),\n",
        "            \n",
        "      Flatten(),\n",
        "      Dense(1024,activation='relu'),\n",
        "      Dropout(0.3),\n",
        "\n",
        "      Dense(num_classes, activation='softmax'),\n",
        "  ]\n",
        "  )\n",
        "train_and_predict(get_cnn_v2(input_shape, num_classes))"
      ],
      "execution_count": 52,
      "outputs": [
        {
          "output_type": "stream",
          "text": [
            "Epoch 1/5\n",
            "1088/1088 [==============================] - 7s 6ms/step - loss: 2.2125 - accuracy: 0.6284 - val_loss: 0.2818 - val_accuracy: 0.9216\n",
            "Epoch 2/5\n",
            "1088/1088 [==============================] - 7s 7ms/step - loss: 0.4807 - accuracy: 0.8576 - val_loss: 0.1367 - val_accuracy: 0.9641\n",
            "Epoch 3/5\n",
            "1088/1088 [==============================] - 7s 7ms/step - loss: 0.3644 - accuracy: 0.8943 - val_loss: 0.1467 - val_accuracy: 0.9627\n",
            "Epoch 4/5\n",
            "1088/1088 [==============================] - 7s 6ms/step - loss: 0.3321 - accuracy: 0.9070 - val_loss: 0.0772 - val_accuracy: 0.9802\n",
            "Epoch 5/5\n",
            "1088/1088 [==============================] - 7s 6ms/step - loss: 0.3417 - accuracy: 0.9071 - val_loss: 0.0737 - val_accuracy: 0.9768\n"
          ],
          "name": "stdout"
        },
        {
          "output_type": "execute_result",
          "data": {
            "text/plain": [
              "0.9179138321995465"
            ]
          },
          "metadata": {
            "tags": []
          },
          "execution_count": 52
        }
      ]
    },
    {
      "cell_type": "code",
      "metadata": {
        "id": "tBgL6H1ZmsIA",
        "colab_type": "code",
        "colab": {
          "base_uri": "https://localhost:8080/",
          "height": 222
        },
        "outputId": "18a96b0a-1d2c-4ce4-97ad-206c24b3aad3"
      },
      "source": [
        "def get_cnn_v3(input_shape, num_classes):\n",
        "  return Sequential([\n",
        "      Conv2D(filters=32,kernel_size=(3,3),activation='relu',input_shape = input_shape),\n",
        "      Conv2D(filters=32,kernel_size=(3,3),activation='relu'),\n",
        "      MaxPool2D(),\n",
        "      Dropout(0.3),\n",
        "      \n",
        "      Conv2D(filters=64,kernel_size=(3,3),activation='relu'),\n",
        "      Conv2D(filters=64,kernel_size=(3,3),activation='relu'),\n",
        "      MaxPool2D(),\n",
        "      Dropout(0.3),\n",
        "            \n",
        "      Flatten(),\n",
        "      Dense(1024,activation='relu'),\n",
        "      Dropout(0.3),\n",
        "\n",
        "      Dense(num_classes, activation='softmax'),\n",
        "  ]\n",
        "  )\n",
        "train_and_predict(get_cnn_v3(input_shape, num_classes))"
      ],
      "execution_count": 56,
      "outputs": [
        {
          "output_type": "stream",
          "text": [
            "Epoch 1/5\n",
            "1088/1088 [==============================] - 8s 7ms/step - loss: 1.2929 - accuracy: 0.7040 - val_loss: 0.1118 - val_accuracy: 0.9712\n",
            "Epoch 2/5\n",
            "1088/1088 [==============================] - 8s 7ms/step - loss: 0.2743 - accuracy: 0.9191 - val_loss: 0.0543 - val_accuracy: 0.9855\n",
            "Epoch 3/5\n",
            "1088/1088 [==============================] - 8s 7ms/step - loss: 0.1928 - accuracy: 0.9445 - val_loss: 0.0398 - val_accuracy: 0.9898\n",
            "Epoch 4/5\n",
            "1088/1088 [==============================] - 8s 7ms/step - loss: 0.1472 - accuracy: 0.9573 - val_loss: 0.0171 - val_accuracy: 0.9949\n",
            "Epoch 5/5\n",
            "1088/1088 [==============================] - 8s 7ms/step - loss: 0.1434 - accuracy: 0.9595 - val_loss: 0.0278 - val_accuracy: 0.9931\n"
          ],
          "name": "stdout"
        },
        {
          "output_type": "execute_result",
          "data": {
            "text/plain": [
              "0.9648526077097506"
            ]
          },
          "metadata": {
            "tags": []
          },
          "execution_count": 56
        }
      ]
    },
    {
      "cell_type": "code",
      "metadata": {
        "id": "azXiP5BwmsTm",
        "colab_type": "code",
        "colab": {
          "base_uri": "https://localhost:8080/",
          "height": 222
        },
        "outputId": "4ba1db99-1437-49cd-e232-3e4d02ceca3a"
      },
      "source": [
        "def get_cnn_v4(input_shape, num_classes):\n",
        "  return Sequential([\n",
        "      Conv2D(filters=32,kernel_size=(3,3),activation='relu',input_shape = input_shape),\n",
        "      Conv2D(filters=32,kernel_size=(3,3),activation='relu',padding='same'),\n",
        "      MaxPool2D(),\n",
        "      Dropout(0.3),\n",
        "      \n",
        "      Conv2D(filters=64,kernel_size=(3,3),activation='relu',padding='same'),\n",
        "      Conv2D(filters=64,kernel_size=(3,3),activation='relu'),\n",
        "      MaxPool2D(),\n",
        "      Dropout(0.3),\n",
        "      \n",
        "      Conv2D(filters=64,kernel_size=(3,3),activation='relu',padding='same'),\n",
        "      Conv2D(filters=64,kernel_size=(3,3),activation='relu'),\n",
        "      MaxPool2D(),\n",
        "      Dropout(0.3),\n",
        "            \n",
        "      Flatten(),\n",
        "      Dense(1024,activation='relu'),\n",
        "      Dropout(0.3),\n",
        "\n",
        "      Dense(num_classes, activation='softmax'),\n",
        "  ]\n",
        "  )\n",
        "\n",
        "train_and_predict(get_cnn_v4(input_shape, num_classes))"
      ],
      "execution_count": 58,
      "outputs": [
        {
          "output_type": "stream",
          "text": [
            "Epoch 1/5\n",
            "1088/1088 [==============================] - 9s 8ms/step - loss: 1.7656 - accuracy: 0.4968 - val_loss: 0.3819 - val_accuracy: 0.8874\n",
            "Epoch 2/5\n",
            "1088/1088 [==============================] - 8s 8ms/step - loss: 0.5096 - accuracy: 0.8415 - val_loss: 0.1286 - val_accuracy: 0.9621\n",
            "Epoch 3/5\n",
            "1088/1088 [==============================] - 8s 8ms/step - loss: 0.3338 - accuracy: 0.8971 - val_loss: 0.0815 - val_accuracy: 0.9773\n",
            "Epoch 4/5\n",
            "1088/1088 [==============================] - 8s 8ms/step - loss: 0.2658 - accuracy: 0.9212 - val_loss: 0.0618 - val_accuracy: 0.9823\n",
            "Epoch 5/5\n",
            "1088/1088 [==============================] - 8s 8ms/step - loss: 0.2450 - accuracy: 0.9290 - val_loss: 0.0400 - val_accuracy: 0.9889\n"
          ],
          "name": "stdout"
        },
        {
          "output_type": "execute_result",
          "data": {
            "text/plain": [
              "0.963718820861678"
            ]
          },
          "metadata": {
            "tags": []
          },
          "execution_count": 58
        }
      ]
    },
    {
      "cell_type": "code",
      "metadata": {
        "id": "t51pplcXjXSC",
        "colab_type": "code",
        "colab": {
          "base_uri": "https://localhost:8080/",
          "height": 222
        },
        "outputId": "09fd0f50-728e-4976-8133-ea25252115b0"
      },
      "source": [
        "def get_cnn_v5(input_shape, num_classes):\n",
        "  return Sequential([\n",
        "      Conv2D(filters=32,kernel_size=(3,3),activation='relu',input_shape = input_shape),\n",
        "      Conv2D(filters=32,kernel_size=(3,3),activation='relu',padding='same'),\n",
        "      MaxPool2D(),\n",
        "      Dropout(0.3),\n",
        "      \n",
        "      Conv2D(filters=64,kernel_size=(3,3),activation='relu',padding='same'),\n",
        "      Conv2D(filters=64,kernel_size=(3,3),activation='relu'),\n",
        "      MaxPool2D(),\n",
        "      Dropout(0.3),\n",
        "      \n",
        "      Conv2D(filters=64,kernel_size=(3,3),activation='relu',padding='same'),\n",
        "      Conv2D(filters=64,kernel_size=(3,3),activation='relu'),\n",
        "      MaxPool2D(),\n",
        "      Dropout(0.3),\n",
        "            \n",
        "      Flatten(),\n",
        "\n",
        "      Dense(1024,activation='relu'),\n",
        "      Dropout(0.3),\n",
        "\n",
        "      Dense(1024,activation='relu'),\n",
        "      Dropout(0.3),\n",
        "\n",
        "      Dense(num_classes, activation='softmax'),\n",
        "  ]\n",
        "  )\n",
        "\n",
        "train_and_predict(get_cnn_v5(input_shape, num_classes))"
      ],
      "execution_count": 61,
      "outputs": [
        {
          "output_type": "stream",
          "text": [
            "Epoch 1/5\n",
            "1088/1088 [==============================] - 9s 8ms/step - loss: 1.9175 - accuracy: 0.4396 - val_loss: 0.4305 - val_accuracy: 0.8605\n",
            "Epoch 2/5\n",
            "1088/1088 [==============================] - 9s 8ms/step - loss: 0.5767 - accuracy: 0.8224 - val_loss: 0.2022 - val_accuracy: 0.9423\n",
            "Epoch 3/5\n",
            "1088/1088 [==============================] - 9s 8ms/step - loss: 0.3569 - accuracy: 0.8936 - val_loss: 0.1530 - val_accuracy: 0.9526\n",
            "Epoch 4/5\n",
            "1088/1088 [==============================] - 9s 8ms/step - loss: 0.3301 - accuracy: 0.9085 - val_loss: 0.0903 - val_accuracy: 0.9736\n",
            "Epoch 5/5\n",
            "1088/1088 [==============================] - 9s 8ms/step - loss: 0.2929 - accuracy: 0.9201 - val_loss: 0.0607 - val_accuracy: 0.9818\n"
          ],
          "name": "stdout"
        },
        {
          "output_type": "execute_result",
          "data": {
            "text/plain": [
              "0.9668934240362812"
            ]
          },
          "metadata": {
            "tags": []
          },
          "execution_count": 61
        }
      ]
    },
    {
      "cell_type": "code",
      "metadata": {
        "id": "FySoFGEUuJM3",
        "colab_type": "code",
        "colab": {}
      },
      "source": [
        "X_train_gray = color.rgb2gray( X_train ).reshape(-1,32,32,1)\n",
        "X_test_gray = color.rgb2gray( X_test ).reshape(-1,32,32,1)"
      ],
      "execution_count": 0,
      "outputs": []
    },
    {
      "cell_type": "code",
      "metadata": {
        "id": "HTV6jJ7Uvj8U",
        "colab_type": "code",
        "colab": {
          "base_uri": "https://localhost:8080/",
          "height": 222
        },
        "outputId": "3e84a765-e352-4198-fc6c-4938103e6c2b"
      },
      "source": [
        "model = get_cnn_v5((32,32,1), num_classes)\n",
        "model_trained = train_model(model, X_train_gray, y_train)\n",
        "predict_model(model_trained, X_test_gray, y_test)"
      ],
      "execution_count": 68,
      "outputs": [
        {
          "output_type": "stream",
          "text": [
            "Epoch 1/5\n",
            "1088/1088 [==============================] - 9s 8ms/step - loss: 1.9237 - accuracy: 0.4418 - val_loss: 0.3236 - val_accuracy: 0.8955\n",
            "Epoch 2/5\n",
            "1088/1088 [==============================] - 9s 8ms/step - loss: 0.3646 - accuracy: 0.8849 - val_loss: 0.1463 - val_accuracy: 0.9499\n",
            "Epoch 3/5\n",
            "1088/1088 [==============================] - 9s 8ms/step - loss: 0.2107 - accuracy: 0.9356 - val_loss: 0.0518 - val_accuracy: 0.9837\n",
            "Epoch 4/5\n",
            "1088/1088 [==============================] - 9s 8ms/step - loss: 0.1685 - accuracy: 0.9504 - val_loss: 0.0522 - val_accuracy: 0.9859\n",
            "Epoch 5/5\n",
            "1088/1088 [==============================] - 9s 8ms/step - loss: 0.1438 - accuracy: 0.9575 - val_loss: 0.0318 - val_accuracy: 0.9904\n"
          ],
          "name": "stdout"
        },
        {
          "output_type": "execute_result",
          "data": {
            "text/plain": [
              "0.972108843537415"
            ]
          },
          "metadata": {
            "tags": []
          },
          "execution_count": 68
        }
      ]
    },
    {
      "cell_type": "code",
      "metadata": {
        "id": "ec_ZTwSZtCYO",
        "colab_type": "code",
        "colab": {
          "base_uri": "https://localhost:8080/",
          "height": 285
        },
        "outputId": "0bcd608b-1923-46fb-9068-e3d55b038164"
      },
      "source": [
        "plt.imshow(color.rgb2gray( X_train[0] ), cmap=plt.get_cmap('gray'))"
      ],
      "execution_count": 65,
      "outputs": [
        {
          "output_type": "execute_result",
          "data": {
            "text/plain": [
              "<matplotlib.image.AxesImage at 0x7fc8ca0ba5c0>"
            ]
          },
          "metadata": {
            "tags": []
          },
          "execution_count": 65
        },
        {
          "output_type": "display_data",
          "data": {
            "image/png": "[encoded data removed]",
            "text/plain": [
              "<Figure size 432x288 with 1 Axes>"
            ]
          },
          "metadata": {
            "tags": []
          }
        }
      ]
    }
  ]
}